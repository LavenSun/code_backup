{
 "metadata": {
  "language_info": {
   "codemirror_mode": {
    "name": "ipython",
    "version": 3
   },
   "file_extension": ".py",
   "mimetype": "text/x-python",
   "name": "python",
   "nbconvert_exporter": "python",
   "pygments_lexer": "ipython3",
   "version": "3.7.6"
  },
  "orig_nbformat": 2,
  "kernelspec": {
   "name": "python3",
   "display_name": "Python 3.7.6 64-bit ('base': conda)"
  },
  "interpreter": {
   "hash": "4ee9cfc0904759e7e2b06ed65a99562148f77e055de7e5f323cef682e0a1a2ed"
  }
 },
 "nbformat": 4,
 "nbformat_minor": 2,
 "cells": [
  {
   "cell_type": "code",
   "execution_count": 4,
   "source": [
    "import time\r\n",
    "currentTime=time.time()\r\n",
    "totalSeconds=int(currentTime)\r\n",
    "currentSecond=totalSeconds%60\r\n",
    "totalMinutes=totalSeconds//60\r\n",
    "currentMinute=totalMinutes%60\r\n",
    "totalHour=totalMinutes//60\r\n",
    "currentHour=totalHour%24\r\n",
    "print(\"Current time is\",currentHour,\":\",currentMinute,\":\",currentSecond,\"GMT\")"
   ],
   "outputs": [
    {
     "output_type": "stream",
     "name": "stdout",
     "text": [
      "Current time is 14 : 29 : 9 GMT\n"
     ]
    }
   ],
   "metadata": {
    "tags": []
   }
  },
  {
   "cell_type": "code",
   "execution_count": 2,
   "source": [
    "import time\r\n",
    "time.strftime('%Y-%m-%d %H:%M:%S')"
   ],
   "outputs": [
    {
     "output_type": "execute_result",
     "data": {
      "text/plain": [
       "'2020-10-10 09:06:42'"
      ]
     },
     "metadata": {},
     "execution_count": 2
    }
   ],
   "metadata": {}
  },
  {
   "cell_type": "code",
   "execution_count": 1,
   "source": [
    "import datetime\n",
    "year,month,day,hour,minute,second = datetime.datetime.now().timetuple()[:6]\n",
    "year,month,day,hour,minute,second "
   ],
   "outputs": [
    {
     "output_type": "execute_result",
     "data": {
      "text/plain": [
       "(2020, 10, 10, 9, 6, 37)"
      ]
     },
     "metadata": {},
     "execution_count": 1
    }
   ],
   "metadata": {}
  },
  {
   "cell_type": "code",
   "execution_count": 3,
   "source": [
    "numbers = []\n",
    "while True:\n",
    "    x = input(\"请输入一个成绩：\")\n",
    "    try:\n",
    "        numbers.append(float(x))\n",
    "    except:\n",
    "        print(\"不是合法成绩\")\n",
    "    while True:\n",
    "        flag = input(\"继续输入吗？\")\n",
    "        if flag.lower() not in ('yes', 'no'):\n",
    "            print(\"非法输入\")\n",
    "        else:\n",
    "            break\n",
    "    if flag.lower() == 'no':\n",
    "        break\n",
    "print(sum(numbers)/len(numbers))"
   ],
   "outputs": [
    {
     "output_type": "stream",
     "name": "stdout",
     "text": [
      "27.333333333333332\n"
     ]
    }
   ],
   "metadata": {}
  },
  {
   "cell_type": "code",
   "execution_count": 2,
   "source": [
    "x = list(range(11))\n",
    "import random\n",
    "random.shuffle(x)\n",
    "sorted(x)"
   ],
   "outputs": [
    {
     "output_type": "execute_result",
     "data": {
      "text/plain": [
       "[0, 1, 2, 3, 4, 5, 6, 7, 8, 9, 10]"
      ]
     },
     "metadata": {},
     "execution_count": 2
    }
   ],
   "metadata": {}
  },
  {
   "cell_type": "code",
   "execution_count": null,
   "source": [],
   "outputs": [],
   "metadata": {}
  }
 ]
}