{
    "cells": [
        {
            "cell_type": "code",
            "execution_count": 2,
            "source": [
                "def sorting(alist, start, end):\r\n",
                "    if start >= end:\r\n",
                "        return\r\n",
                "    mid = alist[start]\r\n",
                "    low = start\r\n",
                "    high = end\r\n",
                "    while low < high:\r\n",
                "        while low < high and alist[high] >= mid:\r\n",
                "            high -= 1\r\n",
                "        alist[low] = alist[high]\r\n",
                "        while low < high and alist[low] < mid:\r\n",
                "            low += 1\r\n",
                "        alist[high] = alist[low]\r\n",
                "    alist[low] = mid\r\n",
                "    sorting(alist, start, low-1)\r\n",
                "    sorting(alist, low+1, end)\r\n",
                "\r\n",
                "alist = ['b', 'z', 'a', 'd', 'k', 'o', 'e']\r\n",
                "sorting(alist, 0, len(alist)-1)\r\n",
                "print(alist)"
            ],
            "outputs": [
                {
                    "output_type": "stream",
                    "name": "stdout",
                    "text": [
                        "['a', 'b', 'd', 'e', 'k', 'o', 'z']\n"
                    ]
                }
            ],
            "metadata": {}
        },
        {
            "cell_type": "code",
            "execution_count": 11,
            "source": [
                "line = int(input('请输入数字：'))\r\n",
                "row = 1\r\n",
                "blank = 0\r\n",
                "while row <= line:\r\n",
                "    left = line-row+1\r\n",
                "    while left > 0:\r\n",
                "        print(' ',end='')\r\n",
                "        left -= 1\r\n",
                "    star = 2*row-1\r\n",
                "    star = row\r\n",
                "    blank_i = blank\r\n",
                "    while star > 0:\r\n",
                "        if(star == 1 or star == row):\r\n",
                "            print('*',end='')\r\n",
                "            while(blank_i > 0):\r\n",
                "                print(' ',end='')\r\n",
                "                blank_i -= 1\r\n",
                "        star -= 1\r\n",
                "    right = line-row+1\r\n",
                "    while right > 0:\r\n",
                "        print(' ',end='')\r\n",
                "        right -= 1\r\n",
                "    print('')\r\n",
                "    row += 1\r\n",
                "    blank += 2"
            ],
            "outputs": [
                {
                    "output_type": "stream",
                    "name": "stdout",
                    "text": [
                        "        *        \n",
                        "       *  *       \n",
                        "      *    *      \n",
                        "     *      *     \n",
                        "    *        *    \n",
                        "   *          *   \n",
                        "  *            *  \n",
                        " *              * \n"
                    ]
                }
            ],
            "metadata": {}
        },
        {
            "cell_type": "code",
            "execution_count": 30,
            "source": [
                "line = int(input('请输入数字：'))\r\n",
                "for i in range(line):\r\n",
                "    for j in range(0, i):\r\n",
                "        print(end=\" \")\r\n",
                "    p = 0\r\n",
                "    for k in range(i, line):\r\n",
                "        print(chr(65+p),end=\" \")\r\n",
                "        p += 1\r\n",
                "    print(\"\")\r\n"
            ],
            "outputs": [
                {
                    "output_type": "stream",
                    "name": "stdout",
                    "text": [
                        "A B C D E F G H \n",
                        " A B C D E F G \n",
                        "  A B C D E F \n",
                        "   A B C D E \n",
                        "    A B C D \n",
                        "     A B C \n",
                        "      A B \n",
                        "       A \n"
                    ]
                }
            ],
            "metadata": {}
        }
    ],
    "metadata": {
        "orig_nbformat": 4,
        "language_info": {
            "name": "python",
            "version": "3.7.6",
            "mimetype": "text/x-python",
            "codemirror_mode": {
                "name": "ipython",
                "version": 3
            },
            "pygments_lexer": "ipython3",
            "nbconvert_exporter": "python",
            "file_extension": ".py"
        },
        "kernelspec": {
            "name": "python3",
            "display_name": "Python 3.7.6 64-bit ('base': conda)"
        },
        "interpreter": {
            "hash": "4ee9cfc0904759e7e2b06ed65a99562148f77e055de7e5f323cef682e0a1a2ed"
        }
    },
    "nbformat": 4,
    "nbformat_minor": 2
}